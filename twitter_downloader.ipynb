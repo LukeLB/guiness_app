{
 "cells": [
  {
   "cell_type": "code",
   "execution_count": 24,
   "metadata": {},
   "outputs": [],
   "source": [
    "from fastbook import *\n",
    "import requests\n",
    "import json\n",
    "import base64\n"
   ]
  },
  {
   "cell_type": "code",
   "execution_count": 38,
   "metadata": {},
   "outputs": [],
   "source": [
    "\n",
    "# Set up the API client\n",
    "api_key = \"UeOY581uHV9X07Xd6rgDsS1x2\"\n",
    "api_secret = \"RR0UZEY1F702U7qnh91N8QjsNCR9yNROirLQVbrlHIJvi536rk\"\n",
    "bearer_token = f\"{api_key}:{api_secret}\"\n",
    "bearer_token_64 = base64.b64encode(bearer_token.encode('utf-8')).decode('utf-8')\n",
    "headers = {\n",
    "    \"Authorization\": f\"Basic {bearer_token_64}\",\n",
    "    \"Content-Type\": \"application/x-www-form-urlencoded;charset=UTF-8\"\n",
    "}\n",
    "data = \"grant_type=client_credentials\"\n",
    "\n",
    "# Get the access token\n",
    "response = requests.post(\"https://api.twitter.com/oauth2/token\", headers=headers, data=data)\n",
    "response_data = json.loads(response.text)\n",
    "access_token = response_data[\"access_token\"]\n",
    "\n",
    "# Set the headers for the API request\n",
    "headers = {\n",
    "    \"Authorization\": f\"Bearer {access_token}\"\n",
    "}\n",
    "\n",
    "# Set the parameters for the API request\n",
    "params1 = {\n",
    "    \"screen_name\": \"shitlondonguinn\",  # Replace with the screen name of the user you want to download images from\n",
    "    \"count\": 500,  # The number of Tweets to retrieve\n",
    "    \"include_rts\": \"false\"  # Exclude retweets\n",
    "}\n",
    "params2 = {\n",
    "    \"screen_name\": \"beautifulpints\",  # Replace with the screen name of the user you want to download images from\n",
    "    \"count\": 500,  # The number of Tweets to retrieve\n",
    "    \"include_rts\": \"false\"  # Exclude retweets\n",
    "}\n",
    "# Make the API request\n",
    "response1 = requests.get(\"https://api.twitter.com/1.1/statuses/user_timeline.json\", headers=headers, params=params1)\n",
    "response2 = requests.get(\"https://api.twitter.com/1.1/statuses/user_timeline.json\", headers=headers, params=params2)\n",
    "\n",
    "# Parse the response\n",
    "response_data1 = json.loads(response1.text)\n",
    "response_data2 = json.loads(response2.text)\n",
    "\n"
   ]
  },
  {
   "cell_type": "code",
   "execution_count": 40,
   "metadata": {},
   "outputs": [],
   "source": [
    "response_data ={'bad':response_data1, 'good': response_data2}"
   ]
  },
  {
   "cell_type": "code",
   "execution_count": 41,
   "metadata": {},
   "outputs": [],
   "source": [
    "beer_types = 'bad', 'good'\n",
    "path = Path('bad_good_guiness')\n",
    "if not path.exists():\n",
    "    path.mkdir()\n",
    "    for o in beer_types:\n",
    "        dest = (path/o)\n",
    "        dest.mkdir(exist_ok=True)\n",
    "        # Extract the images from the response\n",
    "        urls = []\n",
    "        for tweet in response_data[o]:\n",
    "            if 'media' in list(tweet['entities'].keys()):\n",
    "                # This tweet has an image\n",
    "                urls.append(tweet['entities'][\"media\"][0][\"media_url\"])\n",
    "                # Download the image\n",
    "        download_images(dest, urls=urls)"
   ]
  }
 ],
 "metadata": {
  "kernelspec": {
   "display_name": "Python 3",
   "language": "python",
   "name": "python3"
  },
  "language_info": {
   "codemirror_mode": {
    "name": "ipython",
    "version": 3
   },
   "file_extension": ".py",
   "mimetype": "text/x-python",
   "name": "python",
   "nbconvert_exporter": "python",
   "pygments_lexer": "ipython3",
   "version": "3.10.8"
  },
  "orig_nbformat": 4,
  "vscode": {
   "interpreter": {
    "hash": "8ee97e13d6f2ea017e0ac158a159b7e2c123a46372228a74f534ffd7b96a3f95"
   }
  }
 },
 "nbformat": 4,
 "nbformat_minor": 2
}
